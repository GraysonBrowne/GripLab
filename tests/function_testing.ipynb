{
 "cells": [
  {
   "cell_type": "code",
   "execution_count": null,
   "id": "ad2681c3-90ae-4aed-8969-3b6ead6b8fca",
   "metadata": {},
   "outputs": [],
   "source": [
    "from scipy.io import loadmat\n",
    "from pathlib import Path\n",
    "import numpy as np\n",
    "import re\n",
    "from numpy.typing import NDArray\n",
    "import os\n",
    "from itertools import islice\n",
    "import matplotlib.pyplot as plt\n",
    "import math\n",
    "\n",
    "\n",
    "from dataclasses import dataclass"
   ]
  },
  {
   "cell_type": "code",
   "execution_count": null,
   "id": "19b2edc2-f1d3-413d-9c18-dd5320db1fd1",
   "metadata": {},
   "outputs": [],
   "source": [
    "273.15/(5/9) - 459.67\n"
   ]
  },
  {
   "cell_type": "code",
   "execution_count": null,
   "id": "2182fea7-3841-436a-8552-292be4b26e29",
   "metadata": {},
   "outputs": [],
   "source": [
    "((5280*12*0.0254)/3600\n",
    "\n",
    "\n"
   ]
  },
  {
   "cell_type": "code",
   "execution_count": null,
   "id": "51abd463-be1c-4d5a-94e7-f35c1fef8194",
   "metadata": {},
   "outputs": [],
   "source": [
    "filepath = Path('../data/A2356raw2.dat')\n"
   ]
  },
  {
   "cell_type": "code",
   "execution_count": null,
   "id": "4a8f5b22-c943-4f8c-b3c7-fef0dc46dec2",
   "metadata": {},
   "outputs": [],
   "source": [
    "with open(filepath, \"r\") as f:\n",
    "    first_three = list(islice(f, 3))"
   ]
  },
  {
   "cell_type": "code",
   "execution_count": null,
   "id": "21c39459-be7d-46c0-92ad-b7087264c47a",
   "metadata": {},
   "outputs": [],
   "source": [
    "first_three"
   ]
  },
  {
   "cell_type": "code",
   "execution_count": null,
   "id": "68390455-30fa-45ed-b5b8-f0b1ac48c601",
   "metadata": {},
   "outputs": [],
   "source": [
    "s = first_three[0]\n",
    "# Extract Tire_Name\n",
    "tire_match = re.search(r'Tire_Name=([^;]+)', s)\n",
    "tire_name = tire_match.group(1) if tire_match else None\n",
    "\n",
    "# Extract Rim_Width\n",
    "rim_match = re.search(r'Rim_Width=([^;]+)', s)\n",
    "rim_width = str(int(float(rim_match.group(1)))) if rim_match else None"
   ]
  },
  {
   "cell_type": "code",
   "execution_count": null,
   "id": "c33dc760-6b7c-4628-87a9-7d8c81eb84b6",
   "metadata": {},
   "outputs": [],
   "source": [
    "coord_match = re.search(r'Coordinate_System=([^;]+)', first_three[0])\n",
    "coordinate_system = coord_match.group(1) if coord_match else 'SAE'\n"
   ]
  },
  {
   "cell_type": "code",
   "execution_count": null,
   "id": "8e719b50-3be0-4a0c-9d2f-0e3f97c5f7a7",
   "metadata": {},
   "outputs": [],
   "source": [
    "re.search(r'Tire_Name=([^;]+)', s) is None"
   ]
  },
  {
   "cell_type": "code",
   "execution_count": null,
   "id": "45e7d2fe-fc2a-4d84-9209-5cffa759eab1",
   "metadata": {},
   "outputs": [],
   "source": [
    "channels = first_three[1].strip().split('\\t')\n",
    "units = first_three[2].strip().split('\\t')\n",
    "units"
   ]
  },
  {
   "cell_type": "code",
   "execution_count": null,
   "id": "32e7c737-577c-484b-be03-41c81adc982b",
   "metadata": {},
   "outputs": [],
   "source": [
    "np.loadtxt(filepath,delimiter='\\t',skiprows=3)"
   ]
  },
  {
   "cell_type": "code",
   "execution_count": null,
   "id": "a95c8bd7-19f4-4432-96dd-76350193c88d",
   "metadata": {},
   "outputs": [],
   "source": [
    "@dataclass\n",
    "class dataset:\n",
    "    path: os.PathLike\n",
    "    name: str\n",
    "    channels: list\n",
    "    units: list\n",
    "    unit_types: list\n",
    "    data: NDArray[np.float64]\n",
    "    tire_id: str\n",
    "    rim_width: str\n",
    "    unit_system: str\n",
    "    coordinate_system: str"
   ]
  },
  {
   "cell_type": "code",
   "execution_count": null,
   "id": "35ff5cc4-c9cd-4842-9d3f-05abec284e74",
   "metadata": {},
   "outputs": [],
   "source": [
    "def import_mat(filepath):\n",
    "    # Load the .mat file\n",
    "    file_data = loadmat(filepath)\n",
    "    file_name = filepath.stem\n",
    "\n",
    "    # Extract channel names and units\n",
    "    channels = np.concatenate(file_data['channel'][0][0][0][0]).ravel().tolist()\n",
    "    units = np.concatenate(file_data['channel'][0][0][1][0]).ravel().tolist()\n",
    "\n",
    "    # Stack channel data into a single array\n",
    "    data = np.column_stack([file_data[chan] for chan in channels])\n",
    "\n",
    "    # Extract tire ID and rim width\n",
    "    tire_info = file_data['tireid'][0].split(',')\n",
    "    tire_id = tire_info[0]\n",
    "\n",
    "    rim_match = re.search(r\"\\d+\", tire_info[1])\n",
    "    rim_width = rim_match.group() if rim_match else ''\n",
    "\n",
    "    # Determine unit system\n",
    "    unit_system = 'USCS' if 'lb' in units else 'Metric'\n",
    "\n",
    "    # Determine coordinate system\n",
    "    coordinate_system = 'SAE' if 'coord' not in file_data.keys() else file_data['coord']\n",
    "    return dataset(filepath,file_name,channels,units,data,tire_id,rim_width,unit_system,coordinate_system)\n",
    "    "
   ]
  },
  {
   "cell_type": "code",
   "execution_count": null,
   "id": "704ed948-c974-469b-993e-ef8bf02cb2ea",
   "metadata": {},
   "outputs": [],
   "source": [
    "def import_dat(filepath):\n",
    "    \"\"\"\n",
    "    Imports data from a .dat/.txt file and constructs a dataset object with relevant metadata.\n",
    "\n",
    "    Parameters:\n",
    "        filepath (os.PathLike): Path to the .dat/.txt file to import.\n",
    "\n",
    "    Returns:\n",
    "        dataset: An instance of the dataset class containing:\n",
    "            - filepath (os.PathLike): The original file path.\n",
    "            - file_name (str): The base name of the file without extension.\n",
    "            - channels (list of str): List of channel names.\n",
    "            - units (list of str): List of units corresponding to each channel.\n",
    "            - data (np.ndarray): 2D array of channel data.\n",
    "            - tire_id (str): Tire identifier extracted from the file.\n",
    "            - rim_width (str or None): Rim width extracted from the tire ID string.\n",
    "            - unit_system (str): 'USCS' if units are in pounds, otherwise 'Metric'.\n",
    "            - coordinate_system (str): Extracted coordinate system, defaults to 'SAE' if not found.\n",
    "\n",
    "    Raises:\n",
    "        Exception: Logs and handles any errors encountered during file import.\n",
    "    \"\"\"\n",
    "    #try:\n",
    "    # Load the .dat file\n",
    "    file_name = filepath.stem\n",
    "\n",
    "    with open(filepath, \"r\") as f:\n",
    "        first_three = list(islice(f, 3))\n",
    "\n",
    "    # Extract channel names and units\n",
    "    channels = first_three[1].strip().split('\\t')\n",
    "    units = first_three[2].strip().split('\\t')\n",
    "    unit_types = UnitSystemConverter.map_channels_to_types(channels)\n",
    "    \n",
    "    # Stack channel data into a single array\n",
    "    data = np.loadtxt(filepath,delimiter='\\t',skiprows=3)\n",
    "\n",
    "    if 'SL' not in channels:\n",
    "        channels.append('SL')\n",
    "        data = np.column_stack([data,np.zeros(len(data),np.float64)])\n",
    "\n",
    "    # Extract tire ID and rim width\n",
    "    tire_match = re.search(r'Tire_Name=([^;]+)', first_three[0])\n",
    "    tire_id = tire_match.group(1) if tire_match else ''\n",
    "\n",
    "    rim_match = re.search(r'Rim_Width=([^;]+)', first_three[0])\n",
    "    rim_width = str(int(float(rim_match.group(1)))) if rim_match else ''\n",
    "\n",
    "    # Determine unit system\n",
    "    unit_system = 'USCS' if 'lb' in units else 'Metric'\n",
    "\n",
    "    # Determine coordinate system\n",
    "    coord_match = re.search(r'Coordinate_System=([^;]+)', first_three[0])\n",
    "    coordinate_system = coord_match.group(1) if coord_match else 'SAE'\n",
    "            \n",
    "        \n",
    "    #    logger.info(f\"{file_name} successfully imported.\")\n",
    "    #except Exception as e:\n",
    "    #    logger.error(f\"Error importing .DAT/.TXT file {e}\")\n",
    "    return dataset(filepath,file_name,channels,units,unit_types,data,tire_id,rim_width,unit_system,coordinate_system)"
   ]
  },
  {
   "cell_type": "code",
   "execution_count": null,
   "id": "3eeea0ef-83d8-41bb-9237-b234c8bacaea",
   "metadata": {},
   "outputs": [],
   "source": [
    "    file_name = filepath.stem\n",
    "\n",
    "    with open(filepath, \"r\") as f:\n",
    "        first_three = list(islice(f, 3))\n",
    "\n",
    "    # Extract channel names and units\n",
    "    channels = first_three[1].strip().split('\\t')\n",
    "    units = first_three[2].strip().split('\\t')\n",
    "\n",
    "    # Stack channel data into a single array\n",
    "    data = np.loadtxt(filepath,delimiter='\\t',skiprows=3)"
   ]
  },
  {
   "cell_type": "code",
   "execution_count": null,
   "id": "b1f068ed-94b7-447c-8ac2-52b69825bd85",
   "metadata": {},
   "outputs": [],
   "source": [
    "filepath = Path('../data/A2356raw12.mat')\n",
    "file_data = loadmat(filepath)\n",
    "file_name = filepath.stem\n",
    "\n",
    "# Extract channel names and units\n",
    "channels = np.concatenate(file_data['channel'][0][0][0][0]).ravel().tolist()\n",
    "units = np.concatenate(file_data['channel'][0][0][1][0]).ravel().tolist()\n",
    "units"
   ]
  },
  {
   "cell_type": "code",
   "execution_count": null,
   "id": "325d4dea-710a-48d8-a1f6-6548ba1f51f4",
   "metadata": {
    "scrolled": true
   },
   "outputs": [],
   "source": [
    "filepath = Path('../data/A2356raw12.mat')\n",
    "test_mat = import_mat(filepath)"
   ]
  },
  {
   "cell_type": "code",
   "execution_count": null,
   "id": "55914e0d-da24-4915-8047-e6b675f9ea93",
   "metadata": {},
   "outputs": [],
   "source": [
    "filepath = Path('../data/B2356raw12.dat')\n",
    "test_dat = import_dat(filepath)"
   ]
  },
  {
   "cell_type": "code",
   "execution_count": null,
   "id": "d8e39e0f-b8bd-48fc-b083-60053f7b14da",
   "metadata": {},
   "outputs": [],
   "source": [
    "test_dat"
   ]
  },
  {
   "cell_type": "code",
   "execution_count": null,
   "id": "7715fdf4-013b-468b-888b-717e975a0729",
   "metadata": {},
   "outputs": [],
   "source": [
    "plt.plot(test_dat.data[:,test_dat.channels.index('TSTO')])"
   ]
  }
 ],
 "metadata": {
  "kernelspec": {
   "display_name": "Python 3 (ipykernel)",
   "language": "python",
   "name": "python3"
  },
  "language_info": {
   "codemirror_mode": {
    "name": "ipython",
    "version": 3
   },
   "file_extension": ".py",
   "mimetype": "text/x-python",
   "name": "python",
   "nbconvert_exporter": "python",
   "pygments_lexer": "ipython3",
   "version": "3.12.9"
  }
 },
 "nbformat": 4,
 "nbformat_minor": 5
}
