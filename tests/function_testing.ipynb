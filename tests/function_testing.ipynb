{
 "cells": [
  {
   "cell_type": "code",
   "execution_count": 119,
   "id": "ad2681c3-90ae-4aed-8969-3b6ead6b8fca",
   "metadata": {},
   "outputs": [],
   "source": [
    "from scipy.io import loadmat\n",
    "from pathlib import Path\n",
    "import numpy as np\n",
    "import re\n",
    "from numpy.typing import NDArray\n",
    "import os\n",
    "from dataclasses import dataclass"
   ]
  },
  {
   "cell_type": "code",
   "execution_count": 139,
   "id": "51abd463-be1c-4d5a-94e7-f35c1fef8194",
   "metadata": {},
   "outputs": [],
   "source": [
    "filepath = Path('../data/A2356raw2.mat')\n",
    "mat_data = loadmat(filepath)"
   ]
  },
  {
   "cell_type": "code",
   "execution_count": 140,
   "id": "4a8f5b22-c943-4f8c-b3c7-fef0dc46dec2",
   "metadata": {
    "scrolled": true
   },
   "outputs": [
    {
     "data": {
      "text/plain": [
       "dict_keys(['__header__', '__version__', '__globals__', 'AMBTMP', 'ET', 'FX', 'FY', 'FZ', 'IA', 'MX', 'MZ', 'N', 'NFX', 'NFY', 'P', 'RE', 'RL', 'RST', 'RUN', 'SA', 'SL', 'SR', 'TSTC', 'TSTI', 'TSTO', 'V', 'channel', 'source', 'testid', 'tireid'])"
      ]
     },
     "execution_count": 140,
     "metadata": {},
     "output_type": "execute_result"
    }
   ],
   "source": [
    "mat_data.keys()"
   ]
  },
  {
   "cell_type": "code",
   "execution_count": 147,
   "id": "a95c8bd7-19f4-4432-96dd-76350193c88d",
   "metadata": {},
   "outputs": [],
   "source": [
    "@dataclass\n",
    "class dataset:\n",
    "    path: os.PathLike\n",
    "    name: str\n",
    "    channels: list\n",
    "    units: list\n",
    "    data: NDArray[np.float64]\n",
    "    tire_id: str\n",
    "    rim_width: str\n",
    "    unit_system: str\n",
    "    coordinate_system: str"
   ]
  },
  {
   "cell_type": "code",
   "execution_count": 145,
   "id": "35ff5cc4-c9cd-4842-9d3f-05abec284e74",
   "metadata": {},
   "outputs": [],
   "source": [
    "def import_mat(filepath):\n",
    "    file = loadmat(filepath)\n",
    "    name = filepath.stem\n",
    "    channels = np.concatenate(file['channel'][0][0][0][0]).ravel().tolist()\n",
    "    units = np.concatenate(file['channel'][0][0][1][0]).ravel().tolist()\n",
    "    data = np.column_stack([file[chan] for chan in channels])\n",
    "    tire_id = mat_data['tireid'][0].split(',')[0]\n",
    "    rim_width = re.search(r\"\\d+\", file['tireid'][0].split(',')[1]).group()\n",
    "    unit_system = 'USCS' if 'lb' in units else 'Metric'\n",
    "    coordinate_system = 'SAE' if 'coord' not in file.keys() else file['coord']\n",
    "    return dataset(path,name,channels,units,data,tire_id,rim_width,unit_system,coordinate_system)\n",
    "    "
   ]
  },
  {
   "cell_type": "code",
   "execution_count": 138,
   "id": "5119950e-2594-4079-b89e-3b02d3cff13b",
   "metadata": {},
   "outputs": [],
   "source": [
    "path = Path('../data/A2356raw2.mat')\n",
    "channels = np.concatenate(mat_data['channel'][0][0][0][0]).ravel().tolist()\n",
    "units = np.concatenate(mat_data['channel'][0][0][1][0]).ravel().tolist()\n",
    "data = np.column_stack([mat_data[chan] for chan in channels])\n",
    "tire_id = mat_data['tireid'][0].split(',')[0]\n",
    "rim_width = re.search(r\"\\d+\", mat_data['tireid'][0].split(',')[1]).group()\n",
    "unit_system = 'USCS' if 'lb' in units else 'Metric'\n",
    "coordinate_system = 'SAE' if 'coord' not in mat_data.keys() else mat_data['coord']"
   ]
  },
  {
   "cell_type": "code",
   "execution_count": 132,
   "id": "f96b7cb0-ee21-431d-897b-03ff3fade153",
   "metadata": {
    "scrolled": true
   },
   "outputs": [],
   "source": [
    "test = dataset(path,channels,units,data,tire_id,rim_width,unit_system,coordinate_system)"
   ]
  },
  {
   "cell_type": "code",
   "execution_count": 136,
   "id": "3dce8ef0-d550-4273-82f8-7b1db4f68604",
   "metadata": {},
   "outputs": [
    {
     "data": {
      "text/plain": [
       "array([0.00000e+00, 1.00000e-02, 2.00000e-02, ..., 7.98572e+02,\n",
       "       7.98582e+02, 7.98592e+02], shape=(79861,))"
      ]
     },
     "execution_count": 136,
     "metadata": {},
     "output_type": "execute_result"
    }
   ],
   "source": [
    "test.data[:,0]"
   ]
  },
  {
   "cell_type": "code",
   "execution_count": 148,
   "id": "325d4dea-710a-48d8-a1f6-6548ba1f51f4",
   "metadata": {
    "scrolled": true
   },
   "outputs": [],
   "source": [
    "test2 = import_mat(filepath)"
   ]
  },
  {
   "cell_type": "code",
   "execution_count": 144,
   "id": "df3a2dfc-0f4c-4f16-ac79-cabed1918fd0",
   "metadata": {},
   "outputs": [
    {
     "data": {
      "text/plain": [
       "'A2356raw2'"
      ]
     },
     "execution_count": 144,
     "metadata": {},
     "output_type": "execute_result"
    }
   ],
   "source": [
    "filepath.stem"
   ]
  },
  {
   "cell_type": "code",
   "execution_count": 149,
   "id": "c0aca3c9-e8c9-488e-9325-a853660dc337",
   "metadata": {},
   "outputs": [
    {
     "data": {
      "text/plain": [
       "dataset(path=WindowsPath('../data/A2356raw2.mat'), name='A2356raw2', channels=['ET', 'V', 'N', 'SA', 'IA', 'RL', 'RE', 'P', 'FX', 'FY', 'FZ', 'MX', 'MZ', 'NFX', 'NFY', 'RST', 'TSTI', 'TSTC', 'TSTO', 'AMBTMP', 'SR', 'SL'], units=['sec', 'mph', 'rpm', 'deg', 'deg', 'in', 'in', 'psi', 'lb', 'lb', 'lb', 'ft-lb', 'ft-lb', 'none', 'none', 'deg F', 'deg F', 'deg F', 'deg F', 'deg F', 'none', 'none'], data=array([[ 0.00000e+00,  2.00000e-02, -4.00000e-02, ...,  7.80200e+01,\n",
       "        -1.09320e+00, -0.00000e+00],\n",
       "       [ 1.00000e-02,  2.00000e-02,  3.00000e-02, ...,  7.80100e+01,\n",
       "        -9.42000e-01, -0.00000e+00],\n",
       "       [ 2.00000e-02,  0.00000e+00,  3.00000e-02, ...,  7.79800e+01,\n",
       "        -6.36600e-01, -0.00000e+00],\n",
       "       ...,\n",
       "       [ 7.98572e+02,  2.00000e-02,  9.00000e-02, ...,  7.77200e+01,\n",
       "        -7.89300e-01, -0.00000e+00],\n",
       "       [ 7.98582e+02,  2.00000e-02, -4.00000e-02, ...,  7.76900e+01,\n",
       "        -1.09390e+00, -0.00000e+00],\n",
       "       [ 7.98592e+02,  2.00000e-02,  3.00000e-02, ...,  7.77000e+01,\n",
       "        -9.41600e-01, -0.00000e+00]], shape=(79861, 22)), tire_id='Hoosier 43075 16x7.5-10 R20', rim_width='7', unit_system='USCS', coordinate_system='SAE')"
      ]
     },
     "execution_count": 149,
     "metadata": {},
     "output_type": "execute_result"
    }
   ],
   "source": [
    "test2"
   ]
  }
 ],
 "metadata": {
  "kernelspec": {
   "display_name": "Python 3 (ipykernel)",
   "language": "python",
   "name": "python3"
  },
  "language_info": {
   "codemirror_mode": {
    "name": "ipython",
    "version": 3
   },
   "file_extension": ".py",
   "mimetype": "text/x-python",
   "name": "python",
   "nbconvert_exporter": "python",
   "pygments_lexer": "ipython3",
   "version": "3.12.9"
  }
 },
 "nbformat": 4,
 "nbformat_minor": 5
}
